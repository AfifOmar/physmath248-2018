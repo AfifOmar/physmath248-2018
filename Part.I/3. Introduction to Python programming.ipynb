{
 "cells": [
  {
   "cell_type": "markdown",
   "metadata": {},
   "source": [
    "# Intro to Python programing\n",
    "\n",
    "The main programming environment in this class will be [Python](https://www.python.org), and specifically the interactive [ipython](http://ipython.org) environment. The latter provides in combination with the [matplotlib](http://matplotlib.org) package and further extension packages, such as [numpy](http://www.numpy.org), [scipy](http://www.scipy.org) and [sympy](http://www.sympy.org) a very powerful environment for scientific and mathematical computing. There are many, many other extension packages.\n",
    "\n",
    "### Starting a new notebook\n",
    "* unless otherwise told we **always start Python 3** notebooks\n",
    "* start notebook, give it a name \n",
    "* many things missing, e.g. `sqrt`\n",
    "* a key python feature: modules providing additional functionality, such as `numpy` \n",
    "* load libraries needed, such as numpy: `import numpy as np`"
   ]
  },
  {
   "cell_type": "code",
   "execution_count": null,
   "metadata": {
    "collapsed": false
   },
   "outputs": [],
   "source": [
    "import numpy as np\n",
    "np.sqrt(4)"
   ]
  },
  {
   "cell_type": "markdown",
   "metadata": {},
   "source": [
    "* magic command `%pylab nbagg` loads numpy and matlab into interactive namespace\n",
    "* very convenient - but beware of **namespace** mingling $\\rightarrow$ _discuss name spaces_ "
   ]
  },
  {
   "cell_type": "code",
   "execution_count": null,
   "metadata": {
    "collapsed": false
   },
   "outputs": [],
   "source": [
    "%pylab nbagg"
   ]
  },
  {
   "cell_type": "code",
   "execution_count": null,
   "metadata": {
    "collapsed": false
   },
   "outputs": [],
   "source": [
    "import mpmath as mp\n",
    "mp.sqrt(4.)"
   ]
  },
  {
   "cell_type": "code",
   "execution_count": null,
   "metadata": {
    "collapsed": false
   },
   "outputs": [],
   "source": [
    "import scipy as sp\n",
    "sp.sqrt(4.)"
   ]
  },
  {
   "cell_type": "markdown",
   "metadata": {},
   "source": [
    "* note that at this point we have three different ways to do a sqrt\n",
    "* see _Keyboard shortcuts_: `Esc` and `Enter` swich between _Command_ mode and _Edit_ mode, learn a few keyboard shortcuts, such as `a` and `b` to add cell after and before current cell in _Command_ mode, or `dd` to delete cell in _Command_mode\n",
    "\n",
    "### Simple tasks in python\n",
    "\n",
    "#### Variables\n",
    "* variables and choosing variable names: \n",
    "\t- don't use possible function names or other things as variable names that could mean something\n",
    "\t- use mnemonic names\n",
    "\t- be mindful of name space\n",
    "* strings, slicing\n",
    "* lists, tuples, arrays (tupple is immutable)"
   ]
  },
  {
   "cell_type": "code",
   "execution_count": null,
   "metadata": {
    "collapsed": true
   },
   "outputs": [],
   "source": [
    "# this is a comment\n",
    "# define a variable\n",
    "a = 4.      # a scalar\n",
    "a_list = [2, 'b']\n",
    "c = 'c'\n",
    "x = linspace(0,10,5)"
   ]
  },
  {
   "cell_type": "code",
   "execution_count": null,
   "metadata": {
    "collapsed": false
   },
   "outputs": [],
   "source": [
    "print(x[2:4])"
   ]
  },
  {
   "cell_type": "markdown",
   "metadata": {},
   "source": [
    "#### flow control: for and while loops, if statement"
   ]
  },
  {
   "cell_type": "code",
   "execution_count": null,
   "metadata": {
    "collapsed": false
   },
   "outputs": [],
   "source": [
    "range(5)\n",
    "for i in range(5):\n",
    "    if i < 4:\n",
    "        print(i)"
   ]
  },
  {
   "cell_type": "code",
   "execution_count": null,
   "metadata": {
    "collapsed": false
   },
   "outputs": [],
   "source": [
    "i=0\n",
    "while i < 4:\n",
    "    print(i)\n",
    "    i += 1\n",
    "    "
   ]
  },
  {
   "cell_type": "markdown",
   "metadata": {},
   "source": [
    "* the importance of syntax in python\n",
    "\n",
    "#### functions: \n",
    "- `def` \n",
    "- function arguments: mandatory and optional\n",
    "- lambda functions: "
   ]
  },
  {
   "cell_type": "code",
   "execution_count": null,
   "metadata": {
    "collapsed": false
   },
   "outputs": [],
   "source": [
    "def g(x,a=1):\n",
    "    g = a*x**2\n",
    "    return g\n",
    "g(3)"
   ]
  },
  {
   "cell_type": "code",
   "execution_count": null,
   "metadata": {
    "collapsed": false
   },
   "outputs": [],
   "source": [
    "#a = 2.\n",
    "f = lambda x: a*x**2\n",
    "f(2)"
   ]
  },
  {
   "cell_type": "markdown",
   "metadata": {},
   "source": [
    "#### your own module\n",
    "* add functions and variables into file calles `mymod.py` in the _present working directory_\n",
    "* import module and use it"
   ]
  },
  {
   "cell_type": "code",
   "execution_count": null,
   "metadata": {
    "collapsed": false
   },
   "outputs": [],
   "source": [
    "import mymod "
   ]
  },
  {
   "cell_type": "code",
   "execution_count": null,
   "metadata": {
    "collapsed": false
   },
   "outputs": [],
   "source": [
    "mymod.h(3)"
   ]
  },
  {
   "cell_type": "markdown",
   "metadata": {},
   "source": [
    "#### help and documentation\n",
    "* getting help: `help(function)` or `function?`\n",
    "* comments and documentation: doc strings\n",
    "* add docstrings to your own module"
   ]
  },
  {
   "cell_type": "code",
   "execution_count": null,
   "metadata": {
    "collapsed": true
   },
   "outputs": [],
   "source": [
    "sqrt?"
   ]
  },
  {
   "cell_type": "markdown",
   "metadata": {},
   "source": [
    "#### example of using library\n",
    "* random numbers: google _numpy random_"
   ]
  },
  {
   "cell_type": "code",
   "execution_count": null,
   "metadata": {
    "collapsed": false
   },
   "outputs": [],
   "source": [
    "random.random(5)"
   ]
  },
  {
   "cell_type": "markdown",
   "metadata": {},
   "source": [
    "#### basic plotting\n",
    "* workhorse: [matplotlib](http://matplotlib.org)"
   ]
  },
  {
   "cell_type": "code",
   "execution_count": null,
   "metadata": {
    "collapsed": false
   },
   "outputs": [],
   "source": [
    "ifig=1; close(ifig); figure(ifig)\n",
    "n=20\n",
    "x = random.random(n)\n",
    "y = random.random(n)\n",
    "plot(x,y,'o')"
   ]
  },
  {
   "cell_type": "code",
   "execution_count": null,
   "metadata": {
    "collapsed": false
   },
   "outputs": [],
   "source": [
    "# plot a sin\n",
    "ifig=2; close(ifig); figure(ifig)\n",
    "x = linspace(0,2*np.pi,n)\n",
    "plot(x,sin(x))"
   ]
  },
  {
   "cell_type": "code",
   "execution_count": null,
   "metadata": {
    "collapsed": false
   },
   "outputs": [],
   "source": [
    "ifig=3; close(ifig); figure(ifig)\n",
    "delta_x = 2*np.pi/(n-1)\n",
    "bar(x,sin(x),delta_x)"
   ]
  },
  {
   "cell_type": "markdown",
   "metadata": {},
   "source": [
    "__Exercise:__\n",
    "* Review this [brief introduction to python](https://github.com/fherwig/physmath248_pilot/blob/master/docs/python-language-intro.pdf) and implement your own ipython notebook of the language elements covered in this short document."
   ]
  }
 ],
 "metadata": {
  "anaconda-cloud": {},
  "kernelspec": {
   "display_name": "Python 3",
   "language": "python",
   "name": "python3"
  },
  "language_info": {
   "codemirror_mode": {
    "name": "ipython",
    "version": 3
   },
   "file_extension": ".py",
   "mimetype": "text/x-python",
   "name": "python",
   "nbconvert_exporter": "python",
   "pygments_lexer": "ipython3",
   "version": "3.5.2"
  }
 },
 "nbformat": 4,
 "nbformat_minor": 2
}
