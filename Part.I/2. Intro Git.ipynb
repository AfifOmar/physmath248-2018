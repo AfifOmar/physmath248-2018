{
 "cells": [
  {
   "cell_type": "markdown",
   "metadata": {},
   "source": [
    "# 2. Distributed version control system\n",
    "\n",
    "## Introduction\n",
    "In this class we will share lecture notes, assignments, problem sets, exams etc. in the same way software development teams would. In any such team it would be important not only to share pieces of code and other information but to attribute it, and to document when and where work has been added and changes have been made. In this way the team can review changes to a previous version, find bugs and easily use and relate to previous versions. Another advantage is that everybody can make changes to their own copy and later merge the changes back to a common code base. We will adopt the _distributed version control system_ [git](https://en.wikipedia.org/wiki/Git_(software)).\n",
    "\n",
    "## Basic concepts\n",
    "Explain basic concept along figures in intro chapters in the [Pro Git book](http://www.git-scm.com/book/en/v2)\n",
    "\n",
    "The course notes that you are looking at right now are hosted on the [course repo](https://github.com/...) which is a public git repository on [GitHub](http://github.com). "
   ]
  },
  {
   "cell_type": "markdown",
   "metadata": {},
   "source": [
    "## git at the CLI\n",
    "\n",
    "### Pull course repo\n",
    "The course notes that you are looking at right now are hosted on the [course repo](https://github.com/delooper/math-phys.248-2017) which is public. \n",
    "\n",
    "* enter the terminal of your syzygy session \n",
    "* get `name_of_repo` from github page\n",
    "* https vs. ssh, setting up your ssh key on github/bitbucket\n",
    "* setup your `.gitconfig` file\n",
    "\n",
    "```\n",
    "$ git clone `name_of_repo`\n",
    "```"
   ]
  },
  {
   "cell_type": "markdown",
   "metadata": {},
   "source": [
    "### Your personal repo\n",
    "You will need one private repo that you will _share_ with the instructors and the TAs. This private repo will contain your homework, assignments, exams, your term project and anything else that you wish to share with us. \n",
    "\n",
    "[GitHub](https://github.com) and [BitBucket](https://bitbucket.org) are two providers of Git servers. Github is hosting the course repo, which is a public repository. GitHub does not allow free private repos, unless you apply for an educational account. BitBucket does allow private accounts.\n",
    "\n",
    "#### Small task 1:\n",
    "Get your [BitBucket](https://bitbucket.org) account. Then go and do your first [small task](https://github.com/.../small.tasks/small.task.1.ipynb). "
   ]
  },
  {
   "cell_type": "code",
   "execution_count": null,
   "metadata": {
    "collapsed": true
   },
   "outputs": [],
   "source": []
  }
 ],
 "metadata": {
  "kernelspec": {
   "display_name": "Python 3",
   "language": "python",
   "name": "python3"
  },
  "language_info": {
   "codemirror_mode": {
    "name": "ipython",
    "version": 3
   },
   "file_extension": ".py",
   "mimetype": "text/x-python",
   "name": "python",
   "nbconvert_exporter": "python",
   "pygments_lexer": "ipython3",
   "version": "3.5.2"
  }
 },
 "nbformat": 4,
 "nbformat_minor": 1
}
