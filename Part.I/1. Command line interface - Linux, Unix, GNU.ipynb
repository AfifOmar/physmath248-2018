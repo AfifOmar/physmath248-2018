{
 "cells": [
  {
   "cell_type": "markdown",
   "metadata": {},
   "source": [
    "# 1. Command line interface CLI\n",
    "The Linux/Unix/GNU operating system command line interface.\n",
    "\n",
    "* General explanation of concepts\n",
    "* Specific details\n",
    "* A simple demonstration task\n",
    "* Advanced topics\n",
    "\n",
    "##  The unix command line\n",
    "\n",
    "### Shell\n",
    "The program that provides the command line (not all of the commands) is the shell. A common shell is `bash`. Try \n",
    "```\n",
    "$ man bash\n",
    "```\n",
    "The command line is a unix process. Launching a command on the command line interface (CLI) spawns a child process."
   ]
  },
  {
   "cell_type": "markdown",
   "metadata": {},
   "source": [
    "### File system\n",
    "```\n",
    "  ls (-l, many other options)\n",
    "  cd  (. or .. or ~ or actual directory)\n",
    "  pwd\n",
    "  mkdir\n",
    "  rmdir\n",
    "  mv  (works on files and directories)  \n",
    "  du (-sh)\n",
    "  df (-h)\n",
    "```"
   ]
  },
  {
   "cell_type": "code",
   "execution_count": null,
   "metadata": {},
   "outputs": [],
   "source": []
  },
  {
   "cell_type": "code",
   "execution_count": null,
   "metadata": {},
   "outputs": [],
   "source": []
  },
  {
   "cell_type": "code",
   "execution_count": null,
   "metadata": {},
   "outputs": [],
   "source": []
  },
  {
   "cell_type": "code",
   "execution_count": null,
   "metadata": {},
   "outputs": [],
   "source": []
  },
  {
   "cell_type": "code",
   "execution_count": null,
   "metadata": {},
   "outputs": [],
   "source": []
  },
  {
   "cell_type": "markdown",
   "metadata": {},
   "source": [
    "### File manipulation\n",
    "\n",
    "```\n",
    "  more/less/tail/head\n",
    "  cat\n",
    "  touch\n",
    "  cp\n",
    "  rm\n",
    "  grep\n",
    "  wc (-l)\n",
    "```\n",
    "\n",
    "You have to pick one of these CLI editors, Falk Herwig recommends emacs:\n",
    "```\n",
    "  emacs, vi or nano \n",
    "```"
   ]
  },
  {
   "cell_type": "code",
   "execution_count": null,
   "metadata": {},
   "outputs": [],
   "source": []
  },
  {
   "cell_type": "markdown",
   "metadata": {},
   "source": [
    "### String manipulation\n",
    "```\n",
    "set \n",
    "basename\n",
    "dirname\n",
    "```"
   ]
  },
  {
   "cell_type": "code",
   "execution_count": null,
   "metadata": {},
   "outputs": [],
   "source": []
  },
  {
   "cell_type": "code",
   "execution_count": null,
   "metadata": {},
   "outputs": [],
   "source": []
  },
  {
   "cell_type": "code",
   "execution_count": null,
   "metadata": {},
   "outputs": [],
   "source": []
  },
  {
   "cell_type": "code",
   "execution_count": null,
   "metadata": {},
   "outputs": [],
   "source": []
  },
  {
   "cell_type": "code",
   "execution_count": null,
   "metadata": {},
   "outputs": [],
   "source": []
  },
  {
   "cell_type": "markdown",
   "metadata": {},
   "source": [
    "### Helpful commands\n",
    "```\n",
    "  man (command) - try man bash\n",
    "  history\n",
    "```\n",
    "\n",
    "### Networking\n",
    "```\n",
    "  ssh\n",
    "  scp\n",
    "  whoami\n",
    "  rsync \n",
    "  ftp\n",
    "  wget\n",
    "```"
   ]
  },
  {
   "cell_type": "code",
   "execution_count": null,
   "metadata": {},
   "outputs": [],
   "source": [
    "# wget example: download mymod.py file from GitHub course repo:\n",
    "wget https://github.com/UVic-CompPhys/physmath248-2018/blob/master/examples/mymod.py"
   ]
  },
  {
   "cell_type": "markdown",
   "metadata": {},
   "source": [
    "### Processes\n",
    "```\n",
    "  top\n",
    "  ps\n",
    "  kill\n",
    "  nohub, nice, &\n",
    "  pipes and filters: use | to pipe between command, use > to redirect output\n",
    "```"
   ]
  },
  {
   "cell_type": "code",
   "execution_count": null,
   "metadata": {},
   "outputs": [],
   "source": [
    "# Example:\n"
   ]
  },
  {
   "cell_type": "markdown",
   "metadata": {},
   "source": [
    "### Shell scripts\n",
    "\n",
    "You can combine a sequence of shell commands into a file and use as a shell script. You have to make the file with the script executable (`chmod u+x file_name.sh`). See file [`example.sh`](../examples/example.sh).\n",
    "\n",
    "### Customize your shell/CLI\n",
    "You can define variables and aliases in the .bashrc file. The details on how this is set up depends on the particular Linux/Unix/Mac flavour.\n",
    "\n",
    "```\n",
    "   alias\n",
    "   environment variables\n",
    "```\n",
    "\n",
    "At startup the shell will execute the shell commands in `.bashrc`.\n",
    "Have a look at `.bashrc` $\\rightarrow$ create a `.bash_aliases` file and add some aliases and environment variables:\n",
    "* an environment variable of your workspace\n",
    "* a `cd` shortcut to change to your workspace\n",
    "* an alias for your editor   "
   ]
  },
  {
   "cell_type": "code",
   "execution_count": null,
   "metadata": {},
   "outputs": [],
   "source": [
    "# Example:\n",
    "# \n",
    "cat > ~/.bash_aliases << %% \n",
    "\n",
    "%%"
   ]
  },
  {
   "cell_type": "markdown",
   "metadata": {},
   "source": [
    "Now, either _source_ your `.bash_aliases` file or stop and start the terminal or bash"
   ]
  },
  {
   "cell_type": "markdown",
   "metadata": {},
   "source": [
    "### Resources\n",
    "You can find numerous online tutorials and support resources on the internet, such as (search yourself for other and let us know what you find useful) [last updated: 01/2015]:\n",
    "* <http://linuxcommand.org/lc3_learning_the_shell.php>\n",
    "* <http://www.emacswiki.org/emacs/LearningEmacs>\n",
    "* <https://www.youtube.com/watch?v=hbzRWQjA6kI>\n",
    "* <https://www.youtube.com/watch?v=pYUGzgYAgEo>\n",
    "* <https://www.youtube.com/watch?v=3DA1grSp4mU>\n",
    "* you can do very advanced things, as shown, for example, in this [bash tutorial](http://www.funtoo.org/Bash_by_Example,_Part_1), [thanks for the suggestion](https://github.com/Hoverbear)\n",
    "\n",
    "These tutorials may differ in which shell and/or command line editor they us. Don't get confused by that."
   ]
  }
 ],
 "metadata": {
  "kernelspec": {
   "display_name": "Bash",
   "language": "bash",
   "name": "bash"
  },
  "language_info": {
   "codemirror_mode": "shell",
   "file_extension": ".sh",
   "mimetype": "text/x-sh",
   "name": "bash"
  }
 },
 "nbformat": 4,
 "nbformat_minor": 2
}
